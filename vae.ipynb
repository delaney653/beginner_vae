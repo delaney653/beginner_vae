{
 "cells": [
  {
   "cell_type": "code",
   "execution_count": 34,
   "metadata": {},
   "outputs": [],
   "source": [
    "# For working with and visualizing the data\n",
    "import numpy as np\n",
    "import pandas as pd\n",
    "import matplotlib.pyplot as plt\n",
    "\n",
    "# For training the VAE\n",
    "import tensorflow as tf\n",
    "\n",
    "# For creating interactive widgets\n",
    "import ipywidgets as widgets\n",
    "from IPython.display import display\n"
   ]
  },
  {
   "cell_type": "code",
   "execution_count": 35,
   "metadata": {},
   "outputs": [
    {
     "name": "stdout",
     "output_type": "stream",
     "text": [
      "(128, 1)\n",
      "-1.441027187937972 [-1]\n"
     ]
    }
   ],
   "source": [
    "face_data_dict = np.load(\"face_emotion_data (1).npz\")\n",
    "face_data_dict = np.load(\"face_emotion_data (1).npz\")\n",
    "\n",
    "face_features_u = face_data_dict[\"X\"]\n",
    "n, p = face_features_u.shape\n",
    "\n",
    "face_labels_u = face_data_dict[\"y\"]\n",
    "\n",
    "indices = np.random.permutation(n)\n",
    "\n",
    "face_features = face_features_u[indices]\n",
    "face_labels = face_labels_u[indices]\n",
    "\n",
    "print(face_labels.shape)\n",
    "\n",
    "print(face_features[0][0], face_labels[0])\n"
   ]
  },
  {
   "cell_type": "code",
   "execution_count": 36,
   "metadata": {},
   "outputs": [],
   "source": [
    "class Sampling(tf.keras.layers.Layer):\n",
    "    def call(self, inputs):\n",
    "        z_mean, z_log_var = inputs\n",
    "        batch = tf.shape(z_mean)[0]\n",
    "        dim = tf.shape(z_mean)[1]\n",
    "        epsilon = tf.keras.backend.random_normal(shape=(batch, dim))\n",
    "        \n",
    "        #reparameterization trick\n",
    "        #gives the sampled val with the correct variance + shifts the\n",
    "        #sampled value by the z_mean\n",
    "        return epsilon * tf.exp(z_log_var * 0.5) + z_mean"
   ]
  },
  {
   "cell_type": "code",
   "execution_count": 37,
   "metadata": {},
   "outputs": [],
   "source": [
    "def build_vae(num_pixels, num_latent_vars=3):\n",
    "    \n",
    "    # Encoder\n",
    "    encoder_inputs = tf.keras.Input(shape=(num_pixels,))\n",
    "    x = tf.keras.layers.Dense(512, activation='relu')(encoder_inputs)\n",
    "    x = tf.keras.layers.Dense(128, activation='relu')(x)\n",
    "    x = tf.keras.layers.Dense(32, activation='relu')(x)\n",
    "    z_mean = tf.keras.layers.Dense(num_latent_vars)(x)\n",
    "    z_log_var = tf.keras.layers.Dense(num_latent_vars)(z_mean)\n",
    "    z = Sampling()([z_mean, z_log_var])\n",
    "    \n",
    "    encoder = tf.keras.Model(inputs=encoder_inputs, outputs=z)\n",
    "    \n",
    "    # Decoder\n",
    "    decoder_inputs = tf.keras.Input(shape=(num_latent_vars,))\n",
    "    x = tf.keras.layers.Dense(32, activation='relu')(decoder_inputs)\n",
    "    x = tf.keras.layers.Dense(128, activation='relu')(x)\n",
    "    x = tf.keras.layers.Dense(512, activation='relu')(x)\n",
    "    reconstruction = tf.keras.layers.Dense(num_pixels, activation='linear')(x)\n",
    "    \n",
    "    decoder = tf.keras.Model(inputs=decoder_inputs, outputs=reconstruction)\n",
    "    \n",
    "    # Full model\n",
    "    model_inputs = encoder.input\n",
    "    model_outputs = decoder(encoder.output)\n",
    "    \n",
    "    model = tf.keras.Model(inputs=model_inputs, outputs=model_outputs)\n",
    "    \n",
    "    # Compile model for training\n",
    "    model.compile(\n",
    "        optimizer='adam',\n",
    "        loss='mse'\n",
    "    )\n",
    "    \n",
    "    # Return all three models\n",
    "    return encoder, decoder, model"
   ]
  },
  {
   "cell_type": "code",
   "execution_count": 41,
   "metadata": {},
   "outputs": [
    {
     "name": "stdout",
     "output_type": "stream",
     "text": [
      "Model: \"model_3\"\n",
      "__________________________________________________________________________________________________\n",
      " Layer (type)                   Output Shape         Param #     Connected to                     \n",
      "==================================================================================================\n",
      " input_3 (InputLayer)           [(None, 2304)]       0           []                               \n",
      "                                                                                                  \n",
      " dense_9 (Dense)                (None, 512)          1180160     ['input_3[0][0]']                \n",
      "                                                                                                  \n",
      " dense_10 (Dense)               (None, 128)          65664       ['dense_9[0][0]']                \n",
      "                                                                                                  \n",
      " dense_11 (Dense)               (None, 32)           4128        ['dense_10[0][0]']               \n",
      "                                                                                                  \n",
      " dense_12 (Dense)               (None, 3)            99          ['dense_11[0][0]']               \n",
      "                                                                                                  \n",
      " dense_13 (Dense)               (None, 3)            12          ['dense_12[0][0]']               \n",
      "                                                                                                  \n",
      " sampling_1 (Sampling)          (None, 3)            0           ['dense_12[0][0]',               \n",
      "                                                                  'dense_13[0][0]']               \n",
      "                                                                                                  \n",
      "==================================================================================================\n",
      "Total params: 1,250,063\n",
      "Trainable params: 1,250,063\n",
      "Non-trainable params: 0\n",
      "__________________________________________________________________________________________________\n",
      "None\n"
     ]
    }
   ],
   "source": [
    "face_encoder, face_decoder, face_model = build_vae(num_pixels=2304, num_latent_vars=3)\n",
    "print(face_encoder.summary())"
   ]
  },
  {
   "cell_type": "code",
   "execution_count": 42,
   "metadata": {},
   "outputs": [
    {
     "name": "stdout",
     "output_type": "stream",
     "text": [
      "Model: \"model_4\"\n",
      "_________________________________________________________________\n",
      " Layer (type)                Output Shape              Param #   \n",
      "=================================================================\n",
      " input_4 (InputLayer)        [(None, 3)]               0         \n",
      "                                                                 \n",
      " dense_14 (Dense)            (None, 32)                128       \n",
      "                                                                 \n",
      " dense_15 (Dense)            (None, 128)               4224      \n",
      "                                                                 \n",
      " dense_16 (Dense)            (None, 512)               66048     \n",
      "                                                                 \n",
      " dense_17 (Dense)            (None, 2304)              1181952   \n",
      "                                                                 \n",
      "=================================================================\n",
      "Total params: 1,252,352\n",
      "Trainable params: 1,252,352\n",
      "Non-trainable params: 0\n",
      "_________________________________________________________________\n",
      "None\n"
     ]
    }
   ],
   "source": [
    "print(face_decoder.summary())"
   ]
  }
 ],
 "metadata": {
  "kernelspec": {
   "display_name": "myenVAE",
   "language": "python",
   "name": "python3"
  },
  "language_info": {
   "codemirror_mode": {
    "name": "ipython",
    "version": 3
   },
   "file_extension": ".py",
   "mimetype": "text/x-python",
   "name": "python",
   "nbconvert_exporter": "python",
   "pygments_lexer": "ipython3",
   "version": "3.10.16"
  }
 },
 "nbformat": 4,
 "nbformat_minor": 2
}
